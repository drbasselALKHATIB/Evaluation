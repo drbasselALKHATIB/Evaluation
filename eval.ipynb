{
 "cells": [
  {
   "cell_type": "code",
   "execution_count": 2,
   "metadata": {},
   "outputs": [
    {
     "name": "stdout",
     "output_type": "stream",
     "text": [
      "Confusion Matrix :\n",
      "[[3 1]\n",
      " [2 4]]\n",
      "Accuracy Score :70.00\n",
      "Precision Score :60.00\n",
      "Recall Score :75.00\n",
      "F1 Score :66.67\n",
      "Specificity :20.00\n"
     ]
    }
   ],
   "source": [
    "# تقييم نماذج التصنيف\n",
    "from sklearn.metrics import confusion_matrix\n",
    "from sklearn.metrics import accuracy_score\n",
    "from sklearn.metrics import precision_score\n",
    "from sklearn.metrics import recall_score\n",
    "from sklearn.metrics import f1_score\n",
    "# الصفوف\n",
    "actual = ['cat', 'dog', 'cat', 'dog', 'cat', 'cat', 'dog', 'cat', 'dog', 'cat']\n",
    "predicted = ['cat', 'cat', 'cat', 'dog', 'cat', 'cat', 'dog', 'dog', 'dog', 'dog']\n",
    "# مصفوفة الارتباك\n",
    "cf_matrix = confusion_matrix(actual , predicted, labels=[\"dog\", \"cat\"] )\n",
    "print ('Confusion Matrix :')\n",
    "print (cf_matrix)\n",
    "# مقاييس الأداء\n",
    "print ('Accuracy Score :{:.2f}'.format(accuracy_score(actual, predicted)*100))\n",
    "print ('Precision Score :{:.2f}'.format(precision_score(actual, predicted, pos_label='dog')*100))\n",
    "print ('Recall Score :{:.2f}'.format(recall_score(actual, predicted, pos_label='dog')*100))\n",
    "print ('F1 Score :{:.2f}'.format(f1_score(actual, predicted, pos_label='dog')*100))\n",
    "print ('Specificity :{:.2f}'.format(cf_matrix[0,1]/(cf_matrix[0,1]+cf_matrix[1,1])*100))\n"
   ]
  },
  {
   "cell_type": "code",
   "execution_count": 3,
   "metadata": {},
   "outputs": [
    {
     "data": {
      "text/plain": [
       "<AxesSubplot:>"
      ]
     },
     "execution_count": 3,
     "metadata": {},
     "output_type": "execute_result"
    },
    {
     "data": {
      "image/png": "[encoded data removed]",
      "text/plain": [
       "<Figure size 432x288 with 2 Axes>"
      ]
     },
     "metadata": {
      "needs_background": "light"
     },
     "output_type": "display_data"
    }
   ],
   "source": [
    "import seaborn as sns\n",
    "sns.heatmap(cf_matrix, annot=True)"
   ]
  },
  {
   "cell_type": "code",
   "execution_count": 4,
   "metadata": {},
   "outputs": [
    {
     "data": {
      "image/png": "[encoded data removed]",
      "text/plain": [
       "<Figure size 432x288 with 1 Axes>"
      ]
     },
     "metadata": {
      "needs_background": "light"
     },
     "output_type": "display_data"
    }
   ],
   "source": [
    "from sklearn.preprocessing import LabelEncoder\n",
    "# ترميز الصفوف\n",
    "le = LabelEncoder()\n",
    "actual=le.fit_transform(actual)\n",
    "predicted = le.fit_transform(predicted)\n",
    "from sklearn import metrics\n",
    "import matplotlib.pyplot as plt\n",
    "# حساب المقاييس\n",
    "fpr, tpr, _ = metrics.roc_curve(actual, predicted)\n",
    "auc = metrics.roc_auc_score(actual, predicted)\n",
    "# رسم المنحني\n",
    "plt.plot(fpr,tpr,label=\"AUC=\"+str(auc))\n",
    "plt.ylabel('True Positive Rate')\n",
    "plt.xlabel('False Positive Rate')\n",
    "plt.legend(loc=4)\n",
    "plt.show()\n"
   ]
  },
  {
   "cell_type": "code",
   "execution_count": 5,
   "metadata": {},
   "outputs": [
    {
     "name": "stdout",
     "output_type": "stream",
     "text": [
      "RMSE :9.92\n",
      "MAE :8.50\n"
     ]
    }
   ],
   "source": [
    "from sklearn.metrics import mean_absolute_error\n",
    "from sklearn.metrics import mean_squared_error\n",
    "from math import sqrt\n",
    "y_true = [15, 30, 40, 55, 75, 90]\n",
    "y_pred = [26, 32, 44, 50, 62, 74]\n",
    "print ('RMSE :{:.2f}'.format(sqrt(mean_squared_error (y_true, y_pred))))\n",
    "print ('MAE :{:.2f}'.format(mean_absolute_error(y_true, y_pred)))\n"
   ]
  },
  {
   "cell_type": "code",
   "execution_count": 6,
   "metadata": {},
   "outputs": [
    {
     "name": "stdout",
     "output_type": "stream",
     "text": [
      "Accuracy Score :100.00\n",
      "Precision Score :100.00\n",
      "Recall Score :100.00\n",
      "F1 Score :100.00\n"
     ]
    }
   ],
   "source": [
    "# مجموعة بيانات \n",
    "# أزهار السوسن\n",
    "from sklearn.datasets import load_iris\n",
    "# مكتبة تقسيم البيانات إلى تدريب واختبار\n",
    "from sklearn.model_selection import train_test_split\n",
    "# مكتبة مُصنف بايز\n",
    "from sklearn.naive_bayes import GaussianNB\n",
    "# مكتبات مقاييس التقييم\n",
    "from sklearn.metrics import accuracy_score\n",
    "from sklearn.metrics import precision_score\n",
    "from sklearn.metrics import recall_score\n",
    "from sklearn.metrics import f1_score\n",
    "# تحميل البيانات \n",
    "X, y = load_iris(return_X_y=True)\n",
    "# تقسيم البيانات إلى تدريب و اختبار\n",
    "X_train, X_test, y_train, y_test = train_test_split(X, y, test_size=0.2)\n",
    "# بناء مصنف بايز\n",
    "gnb = GaussianNB()\n",
    "y_pred = gnb.fit(X_train, y_train).predict(X_test)\n",
    "# حساب مقاييس التقييم\n",
    "# بمقارنة بيانات الاختبار\n",
    "# مع تنبؤ المصنف\n",
    "print ('Accuracy Score :{:.2f}'.format(accuracy_score(y_test, y_pred)*100))\n",
    "print ('Precision Score :{:.2f}'.format(precision_score(y_test, y_pred, average='macro')*100))\n",
    "print ('Recall Score :{:.2f}'.format(recall_score(y_test, y_pred, average='macro')*100))\n",
    "print ('F1 Score :{:.2f}'.format(f1_score(y_test, y_pred, average='macro')*100))\n"
   ]
  },
  {
   "cell_type": "code",
   "execution_count": 7,
   "metadata": {},
   "outputs": [
    {
     "name": "stdout",
     "output_type": "stream",
     "text": [
      "[0.93333333 0.96666667 0.93333333 0.93333333 1.        ]\n",
      "95.33333333333334\n"
     ]
    }
   ],
   "source": [
    "# مجموعة بيانات \n",
    "# أزهار السوسن\n",
    "from sklearn.datasets import load_iris\n",
    "# مكتبة تقسيم البيانات إلى تدريب واختبار\n",
    "from sklearn.model_selection import train_test_split\n",
    "# مكتبة مُصنف بايز\n",
    "from sklearn.naive_bayes import GaussianNB\n",
    "# مكتبة التقييم المتقاطع\n",
    "from sklearn.model_selection import cross_val_score\n",
    "# مكتبات مقاييس التقييم\n",
    "from sklearn.metrics import accuracy_score\n",
    "from sklearn.metrics import precision_score\n",
    "from sklearn.metrics import recall_score\n",
    "from sklearn.metrics import f1_score\n",
    "\n",
    "# تحميل البيانات \n",
    "X, y = load_iris(return_X_y=True)\n",
    "# تقسيم البيانات إلى تدريب و اختبار\n",
    "X_train, X_test, y_train, y_test = train_test_split(X, y, test_size=0.2)\n",
    "# بناء مصنف بايز\n",
    "gnb = GaussianNB()\n",
    "# حساب مقياس الصحة\n",
    "scores = cross_val_score(gnb, X, y, cv=5, scoring=\"accuracy\")\n",
    "print(scores)\n",
    "# حساب المتوسط\n",
    "meanScore = scores.mean()\n",
    "print(meanScore * 100)\n"
   ]
  },
  {
   "cell_type": "code",
   "execution_count": 8,
   "metadata": {},
   "outputs": [],
   "source": [
    "# مكتبة أطر البيانات\n",
    "import pandas as pd\n",
    "# مكتبة التقييم المتقاطع\n",
    "from sklearn.model_selection import cross_val_score\n",
    "# دالة لمقارنة مجموعة من النماذج\n",
    "def cv_comparison_classification(models, X, y, cv):\n",
    "    # تهيئة إطار بيانات لمقاييس التقييم\n",
    "    cv_df = pd.DataFrame()\n",
    "    # الدوران على النماذج\n",
    "    # تطبيق التقييم المتقاطع\n",
    "    for model in models:\n",
    "        #  حساب مقياس الصحة لكل حاوية\n",
    "        acc = cross_val_score(model, X, y,scoring='accuracy',  cv=cv)\n",
    "        # حساب متوسط الصحة للنموذج\n",
    "        acc_avg = round(acc.mean(), 4)\n",
    "        # كتابة النتيجة في إطار البيانات\n",
    "        cv_df[str(model)] = [ acc_avg]\n",
    "        cv_df.index = ['Accuracy']\n",
    "    return cv_df"
   ]
  },
  {
   "cell_type": "code",
   "execution_count": 9,
   "metadata": {},
   "outputs": [
    {
     "name": "stdout",
     "output_type": "stream",
     "text": [
      "          GaussianNB()  DecisionTreeClassifier()  KNeighborsClassifier()\n",
      "Accuracy        0.9534                      0.96                  0.9667\n"
     ]
    }
   ],
   "source": [
    "# مجموعة بيانات \n",
    "# أزهار السوسن\n",
    "from sklearn.datasets import load_iris\n",
    "# مصنف بايز\n",
    "from sklearn.naive_bayes import GaussianNB\n",
    "# مصنف شجرة القرار\n",
    "from sklearn.tree import DecisionTreeClassifier\n",
    "# مصنف أقرب الجيران\n",
    "from sklearn.neighbors import KNeighborsClassifier\n",
    "# تحميل البيانات \n",
    "X, y = load_iris (return_X_y=True)\n",
    "# إنشاء متغيرات النماذج\n",
    "mlr_g = GaussianNB()\n",
    "mlr_d = DecisionTreeClassifier()\n",
    "mlr_k = KNeighborsClassifier()\n",
    "# وضع النماذج في قائمة\n",
    "models = [mlr_g, mlr_d, mlr_k]\n",
    "# استدعاء دالة المقارنة\n",
    "comp_df = cv_comparison_classification(models, X, y, 4)\n",
    "# إظهار إطار البيانات للمقارنه\n",
    "print(comp_df)\n"
   ]
  }
 ],
 "metadata": {
  "interpreter": {
   "hash": "570feb405e2e27c949193ac68f46852414290d515b0ba6e5d90d076ed2284471"
  },
  "kernelspec": {
   "display_name": "Python 3.8.10 64-bit",
   "language": "python",
   "name": "python3"
  },
  "language_info": {
   "codemirror_mode": {
    "name": "ipython",
    "version": 3
   },
   "file_extension": ".py",
   "mimetype": "text/x-python",
   "name": "python",
   "nbconvert_exporter": "python",
   "pygments_lexer": "ipython3",
   "version": "3.8.10"
  },
  "orig_nbformat": 4
 },
 "nbformat": 4,
 "nbformat_minor": 2
}
